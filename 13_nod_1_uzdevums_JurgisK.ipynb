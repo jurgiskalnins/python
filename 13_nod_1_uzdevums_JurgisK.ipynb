{
 "cells": [
  {
   "cell_type": "code",
   "execution_count": 23,
   "metadata": {},
   "outputs": [
    {
     "name": "stdout",
     "output_type": "stream",
     "text": [
      "Counter({21: 9205, 20: 9142, 22: 8978, 23: 8371, 19: 8327, 24: 7505, 18: 7397, 17: 6188, 25: 6048, 26: 4848, 16: 4809, 15: 3551, 27: 3467, 14: 2527, 28: 2490, 13: 1642, 29: 1612, 12: 1013, 30: 950, 31: 543, 11: 538, 10: 279, 32: 241, 9: 118, 33: 111, 8: 38, 34: 34, 7: 11, 35: 11, 6: 6})\n"
     ]
    }
   ],
   "source": [
    "import random\n",
    "import collections\n",
    "\n",
    "roll_list_100000 = []\n",
    "for _ in range (100000):\n",
    "    roll = sum(random.randint(1,6) for _ in range(6))\n",
    "    roll_list_100000.append(roll)\n",
    "c = collections.Counter(roll_list_100000)\n",
    "print(c)"
   ]
  },
  {
   "cell_type": "code",
   "execution_count": 26,
   "metadata": {},
   "outputs": [
    {
     "data": {
      "text/plain": [
       "<BarContainer object of 30 artists>"
      ]
     },
     "execution_count": 26,
     "metadata": {},
     "output_type": "execute_result"
    },
    {
     "data": {
      "image/png": "[encoded data removed]",
      "text/plain": [
       "<Figure size 432x288 with 1 Axes>"
      ]
     },
     "metadata": {
      "needs_background": "light"
     },
     "output_type": "display_data"
    }
   ],
   "source": [
    "import matplotlib.pyplot as plt\n",
    "plt.bar(c.keys(), c.values())"
   ]
  },
  {
   "cell_type": "code",
   "execution_count": null,
   "metadata": {},
   "outputs": [],
   "source": []
  },
  {
   "cell_type": "code",
   "execution_count": null,
   "metadata": {},
   "outputs": [],
   "source": []
  }
 ],
 "metadata": {
  "kernelspec": {
   "display_name": "Python 3",
   "language": "python",
   "name": "python3"
  },
  "language_info": {
   "codemirror_mode": {
    "name": "ipython",
    "version": 3
   },
   "file_extension": ".py",
   "mimetype": "text/x-python",
   "name": "python",
   "nbconvert_exporter": "python",
   "pygments_lexer": "ipython3",
   "version": "3.8.5"
  }
 },
 "nbformat": 4,
 "nbformat_minor": 4
}
